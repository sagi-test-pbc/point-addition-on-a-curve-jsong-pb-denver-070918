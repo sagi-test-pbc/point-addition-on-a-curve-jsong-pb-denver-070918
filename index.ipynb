{
 "cells": [
  {
   "cell_type": "markdown",
   "metadata": {},
   "source": [
    "# Point Addition on a Curve"
   ]
  },
  {
   "cell_type": "code",
   "execution_count": null,
   "metadata": {},
   "outputs": [],
   "source": [
    "# Example where x1 != x2\n",
    "\n",
    "from ecc import FieldElement, Point\n",
    "\n",
    "prime = 137\n",
    "a = FieldElement(0, prime)\n",
    "b = FieldElement(7, prime)\n",
    "p1 = Point(FieldElement(73, prime), FieldElement(128, prime), a, b)\n",
    "p2 = Point(FieldElement(46, prime), FieldElement(22, prime), a, b)\n",
    "\n",
    "print(p1+p2)"
   ]
  },
  {
   "cell_type": "markdown",
   "metadata": {},
   "source": [
    "### Try it\n",
    "\n",
    "#### Find the following point additions on the curve  \\\\( y^2 = x^3 + 7: F_{223} \\\\)\n",
    "```\n",
    "(192,105) + (17,56), (47,71) + (117,141), (143,98) + (76,66)\n",
    "```"
   ]
  },
  {
   "cell_type": "code",
   "execution_count": 1,
   "metadata": {},
   "outputs": [
    {
     "ename": "SyntaxError",
     "evalue": "unexpected EOF while parsing (<ipython-input-1-c2c102ac6167>, line 17)",
     "output_type": "error",
     "traceback": [
      "\u001b[0;36m  File \u001b[0;32m\"<ipython-input-1-c2c102ac6167>\"\u001b[0;36m, line \u001b[0;32m17\u001b[0m\n\u001b[0;31m    # p2 = Point(x2, y2, a, b)\u001b[0m\n\u001b[0m                              ^\u001b[0m\n\u001b[0;31mSyntaxError\u001b[0m\u001b[0;31m:\u001b[0m unexpected EOF while parsing\n"
     ]
    }
   ],
   "source": [
    "from ecc import FieldElement, Point\n",
    "\n",
    "prime = 223\n",
    "a = FieldElement(0, prime)\n",
    "b = FieldElement(7, prime)\n",
    "\n",
    "additions = ((192, 105, 17, 56), (47, 71, 117, 141), (143, 98, 76, 66))\n",
    "\n",
    "# iterate over the additions to be done\n",
    "for x1_raw, y1_raw, x2_raw, y2_raw in additions:\n",
    "    # Initialize points this way:\n",
    "    x1 = FieldElement(x1_raw, prime)\n",
    "    y1 = FieldElement(y1_raw, prime)\n",
    "    p1 = Point(x1, y1, a, b)\n",
    "    x2 = FieldElement(x2_raw, prime)\n",
    "    y2 = FieldElement(y2_raw, prime)\n",
    "    p2 = Point(x2, y2, a, b)\n",
    "    "
   ]
  },
  {
   "cell_type": "code",
   "execution_count": null,
   "metadata": {},
   "outputs": [],
   "source": []
  }
 ],
 "metadata": {
  "kernelspec": {
   "display_name": "Python 3",
   "language": "python",
   "name": "python3"
  },
  "language_info": {
   "codemirror_mode": {
    "name": "ipython",
    "version": 3
   },
   "file_extension": ".py",
   "mimetype": "text/x-python",
   "name": "python",
   "nbconvert_exporter": "python",
   "pygments_lexer": "ipython3",
   "version": "3.6.4"
  }
 },
 "nbformat": 4,
 "nbformat_minor": 2
}
